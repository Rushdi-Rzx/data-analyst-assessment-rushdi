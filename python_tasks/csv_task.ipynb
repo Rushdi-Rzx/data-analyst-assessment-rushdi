{
  "nbformat": 4,
  "nbformat_minor": 0,
  "metadata": {
    "colab": {
      "provenance": []
    },
    "kernelspec": {
      "name": "python3",
      "display_name": "Python 3"
    },
    "language_info": {
      "name": "python"
    }
  },
  "cells": [
    {
      "cell_type": "code",
      "execution_count": 5,
      "metadata": {
        "id": "Zq6bxOiUcwLi"
      },
      "outputs": [],
      "source": [
        "import pandas as pd"
      ]
    },
    {
      "cell_type": "code",
      "source": [
        "data = {\n",
        "    \"order_id\": [1, 2, 3, 4, 5, 6, 7, 8, 9, 10],\n",
        "    \"date\": [\"2023-01-01\", \"2023-01-02\", \"2023-01-03\", \"2023-02-01\", \"2023-02-10\", \"2023-03-05\", \"2023-03-15\", \"2023-04-01\", \"2023-05-01\", \"2023-06-01\"],\n",
        "    \"customer_id\": [101, 102, 101, 103, 104, 105, 101, 102, 106, 107],\n",
        "    \"product_id\": [501, 502, 503, 501, 504, 505, 506, 507, 508, 509],\n",
        "    \"quantity\": [2, 1, 1, 3, 2, 5, 2, 4, 3, 2],\n",
        "    \"price\": [15.0, 25.0, 45.0, 15.0, 35.0, 10.0, 20.0, 30.0, 25.0, 50.0]\n",
        "    }"
      ],
      "metadata": {
        "id": "JcBJ_do7eABH"
      },
      "execution_count": 6,
      "outputs": []
    },
    {
      "cell_type": "code",
      "source": [
        "df = pd.DataFrame(data)"
      ],
      "metadata": {
        "id": "zMsNV7bTetJj"
      },
      "execution_count": 7,
      "outputs": []
    },
    {
      "cell_type": "code",
      "source": [
        "df.to_csv('sales_data.csv')"
      ],
      "metadata": {
        "id": "s-8vauwyeZDJ"
      },
      "execution_count": 8,
      "outputs": []
    }
  ]
}